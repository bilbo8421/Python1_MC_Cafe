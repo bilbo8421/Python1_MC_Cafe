{
 "cells": [
  {
   "cell_type": "markdown",
   "id": "72d5d714-ea9b-4fa8-bac8-8a4e6e65d40f",
   "metadata": {},
   "source": [
    "### MC CAFE"
   ]
  },
  {
   "cell_type": "code",
   "execution_count": 2,
   "id": "9680438e-bb00-4ef5-8673-03b3857511aa",
   "metadata": {},
   "outputs": [],
   "source": [
    "coffee = {\"Espresso\": 1.50, \"Americano\": 2.00, \"Caffe latte\": 2.25, \"Mocha\": 2.25, \"Cappucino\": 2.50, \"Macchiato\": 2.50}"
   ]
  },
  {
   "cell_type": "code",
   "execution_count": 3,
   "id": "394a3233-be1d-44d6-9804-71b625a0fe64",
   "metadata": {},
   "outputs": [],
   "source": [
    "tea = {\"White tea\": 1.50, \"Green tea\": 2.00, \"Oolong tea\": 2.25, \"Black tea\": 2.25, \"Earl Grey\": 2.50, \"Matcha\": 2.50}"
   ]
  },
  {
   "cell_type": "code",
   "execution_count": 4,
   "id": "cb34614e-cbfa-4415-9b36-d38e39d3ccae",
   "metadata": {},
   "outputs": [],
   "source": [
    "pastries = {\"Croissant\": 5.50, \"Cinnamon roll\": 4.50, \"Banana bread\": 4.25, \"Pumpkin bread\": 3.75, \"Sticky bun\": 4.25, \"Apple turnover\": 3.75}"
   ]
  },
  {
   "cell_type": "code",
   "execution_count": 5,
   "id": "05ddf613-5705-441b-ac05-2ae06bb7e607",
   "metadata": {},
   "outputs": [
    {
     "name": "stdout",
     "output_type": "stream",
     "text": [
      "Combined coffee, tea & pastries menu: \n",
      "{'Espresso': 1.5, 'Americano': 2.0, 'Caffe latte': 2.25, 'Mocha': 2.25, 'Cappucino': 2.5, 'Macchiato': 2.5, 'White tea': 1.5, 'Green tea': 2.0, 'Oolong tea': 2.25, 'Black tea': 2.25, 'Earl Grey': 2.5, 'Matcha': 2.5, 'Croissant': 5.5, 'Cinnamon roll': 4.5, 'Banana bread': 4.25, 'Pumpkin bread': 3.75, 'Sticky bun': 4.25, 'Apple turnover': 3.75}\n"
     ]
    }
   ],
   "source": [
    "# global menu... consolidate (coffee, tea & pastries) dictionaries into (1) menu dictionary\n",
    "menu = coffee.copy()\n",
    "menu.update(tea)\n",
    "menu.update(pastries)\n",
    "print(f\"Combined coffee, tea & pastries menu: \\n{menu}\")"
   ]
  },
  {
   "cell_type": "code",
   "execution_count": 7,
   "id": "5a960708-d34c-4f34-b7c4-90444eb7c547",
   "metadata": {},
   "outputs": [],
   "source": [
    "def print_menu (c, t, p) :\n",
    "    print(\"\\nCOFFEE\\n---\")\n",
    "    for key in c:\n",
    "        price = c.get(key)\n",
    "        print(f\"{key:<15} : ${price:.2f}\")\n",
    "    \n",
    "    print(\"\\nTEA\\n---\")\n",
    "    for key in t:\n",
    "        price = t.get(key)\n",
    "        print(f\"{key:<15} : ${price:.2f}\")\n",
    "    \n",
    "    print(\"\\nPASTRIES\\n---\")\n",
    "    for key in p:\n",
    "        price = p.get(key)\n",
    "        print(f\"{key:<15} : ${price:.2f}\")\n"
   ]
  },
  {
   "cell_type": "code",
   "execution_count": 8,
   "id": "8a9ca69f-5333-4072-8f7f-4ed7b284a190",
   "metadata": {},
   "outputs": [],
   "source": [
    "# print_menu(coffee, tea, pastries)"
   ]
  },
  {
   "cell_type": "code",
   "execution_count": 9,
   "id": "6d275fd7-a99e-4355-835c-776fca7a8165",
   "metadata": {},
   "outputs": [],
   "source": [
    "def welcome_MC () :\n",
    "    \n",
    "    welcome = input(\"Welcome to MC Cafe! \\nWould you like to see our menu? (y/n): \")\n",
    "    \n",
    "    if welcome == \"y\" :\n",
    "        print_menu(coffee, tea, pastries) # call print menu\n",
    "        order_yn = input(\"\\nWould you like to order? (y/n): \")\n",
    "        if  order_yn == \"y\" :\n",
    "            call_order() # affirmative to start placing order\n",
    "            \n",
    "        else :\n",
    "            print(\"\\nThanks for visiting the MC Cafe!\")\n",
    "            \n",
    "    else :\n",
    "        order_yn = input(\"Would you like to order? (y/n): \")\n",
    "        if order_yn == \"y\" :\n",
    "            call_order() # declined looking at menu but start placing order\n",
    "        else :\n",
    "\n",
    "             print(\"\\nThanks for visiting the MC Cafe!\")\n",
    "\n"
   ]
  },
  {
   "cell_type": "code",
   "execution_count": 11,
   "id": "38f4fce7-cccb-40bf-a29e-71acc0d5279e",
   "metadata": {},
   "outputs": [],
   "source": [
    "def call_order() :\n",
    "    # import sys\n",
    "    \n",
    "    order = {} # initialize\n",
    "    quanity = {} # initialize \n",
    "    \n",
    "    response = \"y\"\n",
    "    while response == \"y\" :\n",
    "\n",
    "        item = input(\"Enter an item:\")\n",
    "        \n",
    "        if item in menu :\n",
    "            order[item] = menu.get(item)\n",
    "            quanity[item] = int(input (\"Enter the quanity:\"))\n",
    "        else:\n",
    "            print(f\"*** \\'{item}\\' is not on the menu!\\n*** Please see menu items above (case sensitive)\")\n",
    "            continue      \n",
    "          \n",
    "        response = input(\"Enter another item? (y/n):\")\n",
    "        continue\n",
    "\n",
    "    # Calculate order and print receipt  \n",
    "    print(\"\\nMC CAFE ORDER RECEIPT\")\n",
    "    print(21*'*')\n",
    "    for key, value in order.items():\n",
    "        print(f\"{key:<15} ${value:.2f}\") \n",
    "    print(\"---\")\n",
    "    for key, value in quanity.items():\n",
    "        print(f\"{key:<15} ({value})\")\n",
    "    print(\"---\")    \n",
    "    subtotal = sum(order[k]*quanity[k] for k in order)\n",
    "    sales_tax = subtotal * .06\n",
    "    total = sales_tax + subtotal\n",
    "    \n",
    "    print(f\"Sub-Total\\t ${subtotal:.2f}\")\n",
    "    print(f\"Sales Tax\\t  ${sales_tax:.2f}\")\n",
    "    print(\"________________________\")\n",
    "    print(f\"Total Sale\\t ${total:.2f}\")\n",
    "    print(\"\\nThank you for visiting MC Cafe!\")\n"
   ]
  },
  {
   "cell_type": "code",
   "execution_count": 13,
   "id": "31c34c35-8229-4f22-8752-5d772bff9fe0",
   "metadata": {},
   "outputs": [
    {
     "name": "stdin",
     "output_type": "stream",
     "text": [
      "Welcome to MC Cafe! \n",
      "Would you like to see our menu? (y/n):  y\n"
     ]
    },
    {
     "name": "stdout",
     "output_type": "stream",
     "text": [
      "\n",
      "COFFEE\n",
      "---\n",
      "Espresso        : $1.50\n",
      "Americano       : $2.00\n",
      "Caffe latte     : $2.25\n",
      "Mocha           : $2.25\n",
      "Cappucino       : $2.50\n",
      "Macchiato       : $2.50\n",
      "\n",
      "TEA\n",
      "---\n",
      "White tea       : $1.50\n",
      "Green tea       : $2.00\n",
      "Oolong tea      : $2.25\n",
      "Black tea       : $2.25\n",
      "Earl Grey       : $2.50\n",
      "Matcha          : $2.50\n",
      "\n",
      "PASTRIES\n",
      "---\n",
      "Croissant       : $5.50\n",
      "Cinnamon roll   : $4.50\n",
      "Banana bread    : $4.25\n",
      "Pumpkin bread   : $3.75\n",
      "Sticky bun      : $4.25\n",
      "Apple turnover  : $3.75\n"
     ]
    },
    {
     "name": "stdin",
     "output_type": "stream",
     "text": [
      "\n",
      "Would you like to order? (y/n):  y\n",
      "Enter an item: Espresso\n",
      "Enter the quanity: 6\n",
      "Enter another item? (y/n): y\n",
      "Enter an item: Green tea\n",
      "Enter the quanity: 2\n",
      "Enter another item? (y/n): y\n",
      "Enter an item: matcha\n"
     ]
    },
    {
     "name": "stdout",
     "output_type": "stream",
     "text": [
      "*** 'matcha' is not on the menu!\n",
      "*** Please see menu items above (case sensitive)\n"
     ]
    },
    {
     "name": "stdin",
     "output_type": "stream",
     "text": [
      "Enter an item: Matcha\n",
      "Enter the quanity: 2\n",
      "Enter another item? (y/n): y\n",
      "Enter an item: Croissant\n",
      "Enter the quanity: 5\n",
      "Enter another item? (y/n): y\n",
      "Enter an item: Sticky bun\n",
      "Enter the quanity: 5\n",
      "Enter another item? (y/n): n\n"
     ]
    },
    {
     "name": "stdout",
     "output_type": "stream",
     "text": [
      "\n",
      "MC CAFE ORDER RECEIPT\n",
      "*********************\n",
      "Espresso        $1.50\n",
      "Green tea       $2.00\n",
      "Matcha          $2.50\n",
      "Croissant       $5.50\n",
      "Sticky bun      $4.25\n",
      "---\n",
      "Espresso        (6)\n",
      "Green tea       (2)\n",
      "Matcha          (2)\n",
      "Croissant       (5)\n",
      "Sticky bun      (5)\n",
      "---\n",
      "Sub-Total\t $66.75\n",
      "Sales Tax\t  $4.00\n",
      "________________________\n",
      "Total Sale\t $70.75\n",
      "\n",
      "Thank you for visiting MC Cafe!\n"
     ]
    }
   ],
   "source": [
    "welcome_MC()"
   ]
  },
  {
   "cell_type": "code",
   "execution_count": null,
   "id": "a43e09a7-d22b-4e19-8a60-1c0ea3ac1147",
   "metadata": {},
   "outputs": [],
   "source": []
  }
 ],
 "metadata": {
  "kernelspec": {
   "display_name": "Python 3 (ipykernel)",
   "language": "python",
   "name": "python3"
  },
  "language_info": {
   "codemirror_mode": {
    "name": "ipython",
    "version": 3
   },
   "file_extension": ".py",
   "mimetype": "text/x-python",
   "name": "python",
   "nbconvert_exporter": "python",
   "pygments_lexer": "ipython3",
   "version": "3.11.7"
  }
 },
 "nbformat": 4,
 "nbformat_minor": 5
}
